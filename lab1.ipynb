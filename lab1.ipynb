{
  "cells": [
    {
      "cell_type": "markdown",
      "metadata": {
        "pycharm": {
          "name": "#%% md\n"
        },
        "id": "LTEC_K2eCxw5"
      },
      "source": [
        "# Lab1 - Introduction + Neural Networks + PyTorch recap"
      ]
    },
    {
      "cell_type": "markdown",
      "metadata": {
        "pycharm": {
          "name": "#%% md\n"
        },
        "id": "z-_LXQl4Cxw9"
      },
      "source": [
        "## Plan for today\n",
        "\n",
        "1. Get to know course rules, timetable, etc.\n",
        "2. Briefly recap our ML knowledge:\n",
        "    * implement basic logistic regression from scratch\n",
        "    * get (re)accustomed with PyTorch"
      ]
    },
    {
      "cell_type": "markdown",
      "metadata": {
        "pycharm": {
          "name": "#%% md\n"
        },
        "id": "EHAfkb5ACxxA"
      },
      "source": [
        "## 1. Course logistics\n",
        "\n",
        "Let's go over [the course page](https://github.com/gmum/wzum-22) on GitHub."
      ]
    },
    {
      "cell_type": "markdown",
      "metadata": {
        "pycharm": {
          "name": "#%% md\n"
        },
        "id": "LpjlWfSJCxxD"
      },
      "source": [
        "## 2. Logistic regression from scratch\n",
        "\n",
        "We will tackle the problem of **classification**, i.e. prediction of a discrete value (class):\n",
        "\n",
        "$$\n",
        "f(x) = y, y \\in \\{0...N\\}\n",
        "$$\n",
        "\n",
        "The most basic variant of this is **binary** classification: $y \\in \\{0, 1\\}$. We will focus on that for the time being.\n",
        "\n",
        "**Logistic regression** is a model which predicts the probability that a given example belongs to the class 1:\n",
        "\n",
        "$$\n",
        "g(x) = \\hat{p}(y = 1 | x )\n",
        "$$\n",
        "\n",
        "**Questions for you:**\n",
        "* what is the probability that $y=0$?\n",
        "* in the multi-class case, how many outputs will the model have?\n",
        "* what conditions must the model outputs satisfy?\n",
        "\n",
        "As an example, we will work with a breast cancer prediction dataset."
      ]
    },
    {
      "cell_type": "code",
      "execution_count": 1,
      "metadata": {
        "id": "b8YxxTKwCxxG"
      },
      "outputs": [],
      "source": [
        "%load_ext autoreload\n",
        "%autoreload 2"
      ]
    },
    {
      "cell_type": "code",
      "execution_count": 2,
      "metadata": {
        "jupyter": {
          "outputs_hidden": false
        },
        "pycharm": {
          "name": "#%%\n"
        },
        "id": "3NYruM1yCxxJ"
      },
      "outputs": [],
      "source": [
        "from typing import Tuple\n",
        "import numpy as np\n",
        "import matplotlib.pyplot as plt\n",
        "from sklearn.datasets import load_breast_cancer\n",
        "from sklearn.metrics import accuracy_score, precision_score, recall_score\n",
        "from sklearn.model_selection import train_test_split\n",
        "import torch\n",
        "from sklearn.preprocessing import StandardScaler\n",
        "import matplotlib.pyplot as plt\n"
      ]
    },
    {
      "cell_type": "code",
      "execution_count": null,
      "metadata": {
        "jupyter": {
          "outputs_hidden": false
        },
        "pycharm": {
          "is_executing": true,
          "name": "#%%\n"
        },
        "id": "M8-VTCwGCxxL"
      },
      "outputs": [],
      "source": [
        "print(load_breast_cancer().DESCR)"
      ]
    },
    {
      "cell_type": "code",
      "execution_count": 4,
      "metadata": {
        "jupyter": {
          "outputs_hidden": false
        },
        "pycharm": {
          "name": "#%%\n"
        },
        "id": "blcuEejmCxxN",
        "outputId": "f64d1a57-4181-4cbb-8f52-fbb4dfd9078a",
        "colab": {
          "base_uri": "https://localhost:8080/"
        }
      },
      "outputs": [
        {
          "output_type": "stream",
          "name": "stdout",
          "text": [
            "array shapes [(512, 30), (57, 30), (512,), (57,)]\n",
            "y values [0 1] [0 1]\n"
          ]
        }
      ],
      "source": [
        "np.random.seed(0)\n",
        "X, y = load_breast_cancer(return_X_y=True)\n",
        "X_train, X_val, y_train, y_val= train_test_split(X, y, train_size=0.9)\n",
        "\n",
        "scaler = StandardScaler()\n",
        "X_train = scaler.fit_transform(X_train)\n",
        "X_val = scaler.transform(X_val)\n",
        "\n",
        "\n",
        "print(\"array shapes\", [t.shape for t in [X_train, X_val, y_train, y_val]])\n",
        "print(\"y values\", np.unique(y_train), np.unique(y_val) )"
      ]
    },
    {
      "cell_type": "markdown",
      "metadata": {
        "id": "Py9aRNkECxxP"
      },
      "source": [
        "\n",
        "### Linear vs logistic regression\n",
        "\n",
        "We need to transform a vector of 30 features into a value $\\in (0,1)$. Can we use linear regression for that?\n",
        "\n",
        "![classification_regression](https://raw.githubusercontent.com/aghbit/BIT_AI/master/3_logistic_regression/img/clas_reg.png)\n",
        "\n",
        "Recall that in linear regression $f(x) \\in \\mathbb{R} $ is defined as:\n",
        "$$\n",
        "f(x) = w^T x + b\n",
        "$$\n",
        "\n",
        "Where $w, b$ are trainable parameters.\n",
        "\n",
        "In logistic regression, we will need to squash the output, so that $f(x) \\in [0,1]$. A convenient way to do this is the **sigmoid** function:\n",
        "\n",
        "$$\\sigma(x) = \\frac{1}{1+e^{-x}}$$"
      ]
    },
    {
      "cell_type": "code",
      "execution_count": 22,
      "metadata": {
        "pycharm": {
          "name": "#%%\n"
        },
        "id": "4-LJyd84CxxT",
        "outputId": "c74099db-767d-429d-ed6d-a322a646e785",
        "colab": {
          "base_uri": "https://localhost:8080/",
          "height": 334
        }
      },
      "outputs": [
        {
          "output_type": "stream",
          "name": "stdout",
          "text": [
            "sigmoid(-inf) = 0.0\n",
            "sigmoid(0) = 0.5\n",
            "sigmoid(1) = 0.7310585786300049\n",
            "sigmoid(inf) = 1.0\n"
          ]
        },
        {
          "output_type": "display_data",
          "data": {
            "text/plain": [
              "<Figure size 432x288 with 1 Axes>"
            ],
            "image/png": "[encoded data removed]"
          },
          "metadata": {
            "needs_background": "light"
          }
        }
      ],
      "source": [
        "def sigmoid(value):\n",
        "    a = np.exp(-value)\n",
        "    return 1.0/ (1.0 + a)\n",
        "\n",
        "for x in [\n",
        "   -np.inf,\n",
        "    0,\n",
        "    1,\n",
        "    np.inf\n",
        "]:\n",
        "    print(f\"sigmoid({x}) = {sigmoid(x)}\")\n",
        "\n",
        "x = np.linspace(-10, 10)\n",
        "\n",
        "plt.plot(x, sigmoid(x))\n",
        "plt.grid(True)\n",
        "plt.show()"
      ]
    },
    {
      "cell_type": "markdown",
      "metadata": {
        "pycharm": {
          "name": "#%% md\n"
        },
        "id": "aMleGXYACxxW"
      },
      "source": [
        "To sum it up, in case of binary classification:\n",
        "$$\n",
        "\\hat{p}(y=1 | x) = \\sigma(w^Tx + b)\n",
        "$$\n",
        "\n",
        "What about the loss function which can train such a model?\n",
        "\n",
        "We'll use a logarithmic loss function which quite nicely captures an intuition, that we want the predictions datapoints which should be predicted as $0$ as close to $0$ as possible, and, analogically, predictions which should be $1$, as close to $1$ as possible:\n",
        "\n",
        "$$ L = \\frac{-1}{n}\\Big(\\sum_{i=0}^n y^{(i)}\\log{f(x^{(i)})} + (1-y^{(i)})\\log{(1-f(x^{(i)}))} \\Big)$$\n",
        "\n",
        "This function is called **Binary Cross-Entropy**"
      ]
    },
    {
      "cell_type": "code",
      "execution_count": 6,
      "metadata": {
        "jupyter": {
          "outputs_hidden": false
        },
        "pycharm": {
          "name": "#%%\n"
        },
        "id": "xiG7349rCxxY",
        "outputId": "c8ed3154-f876-4bc5-d51c-a0bbbe3427ce",
        "colab": {
          "base_uri": "https://localhost:8080/",
          "height": 265
        }
      },
      "outputs": [
        {
          "output_type": "display_data",
          "data": {
            "text/plain": [
              "<Figure size 432x288 with 1 Axes>"
            ],
            "image/png": "[encoded data removed]"
          },
          "metadata": {
            "needs_background": "light"
          }
        }
      ],
      "source": [
        "x = np.linspace(1e-6, 1 - (1e-6), 1000)\n",
        "\n",
        "plt.plot(x, -np.log(1 - x), label=\"loss when y = 0\")\n",
        "plt.plot(x, -np.log(x), label=\"loss when y = 1\")\n",
        "plt.legend()\n",
        "plt.show()"
      ]
    },
    {
      "cell_type": "markdown",
      "metadata": {
        "pycharm": {
          "name": "#%% md\n"
        },
        "id": "OORyR3tUCxxa"
      },
      "source": [
        "### Task for you: implement the binary cross-entropy function."
      ]
    },
    {
      "cell_type": "code",
      "execution_count": 23,
      "metadata": {
        "jupyter": {
          "outputs_hidden": false
        },
        "pycharm": {
          "name": "#%%\n"
        },
        "id": "FqiZcDSOCxxb"
      },
      "outputs": [],
      "source": [
        "def binary_cross_entropy(x, y, w, b) -> float:\n",
        "    #print(\"x.shape = \",np.shape(x))\n",
        "    #print(\"y.shape = \",np.shape(y))\n",
        "    #print(\"w.shape = \",np.shape(w))\n",
        "    #print(\"b.shape = \",np.shape(b))\n",
        "    N = np.shape(y)[0]\n",
        "    z = np.matmul(x,w).reshape(-1)\n",
        "    z = z+b\n",
        "    sig = sigmoid(z)\n",
        "    #print(\"x.shape = \",np.shape(x))\n",
        "    #print(\"y.shape = \",np.shape(y))\n",
        "    #print(\"w.shape = \",np.shape(w))\n",
        "    #print(\"b.shape = \",np.shape(b))\n",
        "    return -(np.sum(np.multiply(y,sig) + np.multiply(1-y,1-sig)))/N\n",
        "    \"\"\"\n",
        "    All arguments are numpy arrays with shapes:\n",
        "        x: [N, F]\n",
        "        y: [N]\n",
        "        w: [F, 1]\n",
        "        b: [1]\n",
        "\n",
        "    Returns:\n",
        "        The value of binary cross-entropy (a single number).\n",
        "    \"\"\"\n",
        "    ..."
      ]
    },
    {
      "cell_type": "code",
      "source": [
        "w = np.random.rand(30,1)\n",
        "b = np.random.rand(1)"
      ],
      "metadata": {
        "id": "vY6veOIvDVGM"
      },
      "execution_count": 8,
      "outputs": []
    },
    {
      "cell_type": "code",
      "source": [
        "binary_cross_entropy(X_train,y_train,w,b)"
      ],
      "metadata": {
        "id": "iUTld9IqDZtP",
        "outputId": "6232477d-fd5a-4a40-c1e5-3fbb2e995fa5",
        "colab": {
          "base_uri": "https://localhost:8080/"
        }
      },
      "execution_count": 9,
      "outputs": [
        {
          "output_type": "execute_result",
          "data": {
            "text/plain": [
              "-0.1722806074019793"
            ]
          },
          "metadata": {},
          "execution_count": 9
        }
      ]
    },
    {
      "cell_type": "markdown",
      "metadata": {
        "pycharm": {
          "name": "#%% md\n"
        },
        "id": "Gfqz0XYICxxc"
      },
      "source": [
        "In order to train the parameters $w, b$ of our model, we need to calculate the gradients of loss with regard to those parameters:\n",
        "\n",
        "$$ \\frac{\\partial L}{\\partial w} \\text{ and } \\frac{\\partial L}{\\partial b} $$\n"
      ]
    },
    {
      "cell_type": "markdown",
      "metadata": {
        "pycharm": {
          "name": "#%% md\n"
        },
        "id": "iDBp1to2Cxxc"
      },
      "source": [
        "### Task for you: implement the function which calculates $\\frac{\\partial L}{\\partial w}$ and $\\frac{\\partial L}{\\partial b}$:"
      ]
    },
    {
      "cell_type": "code",
      "execution_count": 24,
      "metadata": {
        "jupyter": {
          "outputs_hidden": false
        },
        "pycharm": {
          "name": "#%%\n"
        },
        "id": "2lS0wT-yCxxe"
      },
      "outputs": [],
      "source": [
        "def calculate_gradients(x, y, w, b) -> Tuple[np.ndarray, np.ndarray]:\n",
        "    #print(\"x.shape = \",np.shape(x))\n",
        "    #print(\"y.shape = \",np.shape(y))\n",
        "    #print(\"w.shape = \",np.shape(w))\n",
        "    #print(\"b.shape = \",np.shape(b))\n",
        "    N = np.shape(y)[0]\n",
        "    z = np.matmul(x,w).reshape(-1)\n",
        "    z=z+b\n",
        "    sig = sigmoid(z)\n",
        "    mult1 = np.multiply(y,sig)\n",
        "    dw1 = np.matmul(mult1,x)\n",
        "    mult2 = np.multiply(y-1,sig)\n",
        "    dw2 = np.matmul(mult2,x)\n",
        "    db1 = np.sum(np.multiply(y,1-sig))\n",
        "    db2 = np.sum(np.multiply(y-1,sig))\n",
        "    #print(np.shape(dw1),np.shape(dw2))\n",
        "    #print(np.shape(db1),np.shape(db2))\n",
        "    return -(dw1+dw2).reshape(np.shape(dw1)[0],-1)/N,-(db1+db2).reshape(-1)/N\n",
        "    \"\"\"\n",
        "    All arguments are numpy arrays with shapes:\n",
        "        x: [N, F]\n",
        "        y: [N]\n",
        "        w: [F, 1]\n",
        "        b: [1]\n",
        "\n",
        "    Returns:\n",
        "        The gradients of loss L with regard to `w` and `b`. Their shapes should be identical to the shapes of `w` and `b`, respectively.\n",
        "    \"\"\"\n",
        "    ..."
      ]
    },
    {
      "cell_type": "code",
      "source": [
        "dw ,db = calculate_gradients(X_train,y_train,w,b)\n",
        "\n",
        "print(np.shape(dw), np.shape(db))"
      ],
      "metadata": {
        "id": "41UVO6NUHVm1",
        "outputId": "2bef334e-ce80-4234-c8b1-7c3437b1ec66",
        "colab": {
          "base_uri": "https://localhost:8080/"
        }
      },
      "execution_count": 25,
      "outputs": [
        {
          "output_type": "stream",
          "name": "stdout",
          "text": [
            "(30, 1) (1,)\n"
          ]
        },
        {
          "output_type": "stream",
          "name": "stderr",
          "text": [
            "/usr/local/lib/python3.7/dist-packages/ipykernel_launcher.py:2: RuntimeWarning: overflow encountered in exp\n",
            "  \n"
          ]
        }
      ]
    },
    {
      "cell_type": "markdown",
      "metadata": {
        "pycharm": {
          "name": "#%% md\n"
        },
        "id": "ZPxRowJuCxxf"
      },
      "source": [
        "With the gradient calculation implemented, we should be able to train our model with the **Gradient Descent** method."
      ]
    },
    {
      "cell_type": "code",
      "execution_count": 26,
      "metadata": {
        "jupyter": {
          "outputs_hidden": false
        },
        "pycharm": {
          "name": "#%%\n"
        },
        "id": "L4LhHwDHCxxf",
        "outputId": "157500f2-b716-43c8-ca76-22759bbfa86f",
        "colab": {
          "base_uri": "https://localhost:8080/",
          "height": 517
        }
      },
      "outputs": [
        {
          "output_type": "display_data",
          "data": {
            "text/plain": [
              "<Figure size 432x288 with 1 Axes>"
            ],
            "image/png": "[encoded data removed]"
          },
          "metadata": {
            "needs_background": "light"
          }
        },
        {
          "output_type": "display_data",
          "data": {
            "text/plain": [
              "<Figure size 432x288 with 1 Axes>"
            ],
            "image/png": "[encoded data removed]"
          },
          "metadata": {
            "needs_background": "light"
          }
        }
      ],
      "source": [
        "w = np.random.randn(30, 1) \n",
        "b = np.random.randn(1)\n",
        "# how should we initialize w and b?\n",
        "\n",
        "lr = 1e-1\n",
        "# how big should be the learning rate?\n",
        "\n",
        "history = []\n",
        "\n",
        "for epoch in range(100):\n",
        "    \n",
        "    y_pred_train = sigmoid(np.matmul(X_train,w)+b)\n",
        "    y_pred_train = (y_pred_train > 0.5).astype(int)\n",
        "    train_accuracy = (y_pred_train.reshape(-1) == y_train).mean()\n",
        "    \n",
        "    y_pred_val = sigmoid(np.matmul(X_val,w)+b)\n",
        "    y_pred_val = (y_pred_val > 0.5).astype(int)\n",
        "    val_accuracy = (y_pred_val.reshape(-1) == y_val).mean()\n",
        "    \n",
        "    l_train = binary_cross_entropy(X_train, y_train, w=w, b=b)\n",
        "    dw, db = calculate_gradients(X_train, y_train, w=w, b=b)\n",
        "\n",
        "    w = w - (dw*lr)\n",
        "    b = b - (db*lr)\n",
        "    \n",
        "    elem = dict(epoch=epoch, loss=l_train, train_accuracy=train_accuracy, val_accuracy=val_accuracy)\n",
        "    history.append(elem)\n",
        "\n",
        "\n",
        "\n",
        "plt.plot([h[\"epoch\"] for h in history], [h[\"loss\"] for h in history], label=\"loss\")\n",
        "plt.legend()\n",
        "plt.show()\n",
        "\n",
        "plt.plot([h[\"epoch\"] for h in history], [h[\"train_accuracy\"] for h in history], label=\"train acc\")\n",
        "plt.plot([h[\"epoch\"] for h in history], [h[\"val_accuracy\"] for h in history], label=\"val acc\")\n",
        "plt.legend()\n",
        "plt.show()"
      ]
    },
    {
      "cell_type": "markdown",
      "metadata": {
        "pycharm": {
          "name": "#%% md\n"
        },
        "id": "xKYDB_FRCxxg"
      },
      "source": [
        "## 3. Logistic regression with PyTorch automatic differentiation / loss / optimization tools"
      ]
    },
    {
      "cell_type": "code",
      "execution_count": 28,
      "metadata": {
        "id": "FMge2SmfCxxg"
      },
      "outputs": [],
      "source": [
        "from torch.optim import SGD\n",
        "from torch import nn\n",
        "import torch"
      ]
    },
    {
      "cell_type": "markdown",
      "metadata": {
        "id": "SrUITtD2Cxxi"
      },
      "source": [
        "### Task for you: initialize a logistic regression PyTorch model and train it"
      ]
    },
    {
      "cell_type": "code",
      "execution_count": 38,
      "metadata": {
        "jupyter": {
          "outputs_hidden": false
        },
        "pycharm": {
          "name": "#%%\n"
        },
        "id": "v1QWmOysCxxj",
        "outputId": "221868e7-bca7-409e-e21a-51e26fbfbaab",
        "colab": {
          "base_uri": "https://localhost:8080/"
        }
      },
      "outputs": [
        {
          "output_type": "stream",
          "name": "stdout",
          "text": [
            "{'0.weight': torch.Size([1, 30]), '0.bias': torch.Size([1])}\n"
          ]
        }
      ],
      "source": [
        "model = nn.Sequential(\n",
        "    nn.Linear(30,1),\n",
        "    nn.Sigmoid(),\n",
        ")\n",
        "opt = SGD(model.parameters(), lr=1e-1)\n",
        "loss_fn = nn.BCELoss()\n",
        "\n",
        "print({\n",
        "    name: p.shape\n",
        "    for (name, p) in model.named_parameters()\n",
        "})"
      ]
    },
    {
      "cell_type": "code",
      "execution_count": 39,
      "metadata": {
        "jupyter": {
          "outputs_hidden": false
        },
        "pycharm": {
          "name": "#%%\n"
        },
        "id": "zpyoDbE8Cxxk",
        "outputId": "f70ee5e1-ce4d-4cf2-9b2b-70d472ee6394",
        "colab": {
          "base_uri": "https://localhost:8080/",
          "height": 517
        }
      },
      "outputs": [
        {
          "output_type": "display_data",
          "data": {
            "text/plain": [
              "<Figure size 432x288 with 1 Axes>"
            ],
            "image/png": "[encoded data removed]"
          },
          "metadata": {
            "needs_background": "light"
          }
        },
        {
          "output_type": "display_data",
          "data": {
            "text/plain": [
              "<Figure size 432x288 with 1 Axes>"
            ],
            "image/png": "[encoded data removed]"
          },
          "metadata": {
            "needs_background": "light"
          }
        }
      ],
      "source": [
        "history = []\n",
        "\n",
        "for epoch in range(100):\n",
        "    opt.zero_grad()\n",
        "    \n",
        "    ### YOUR CODE HERE ###\n",
        "    y_pred_train = model(torch.from_numpy(X_train).float())\n",
        "    y_pred_val = model(torch.from_numpy(X_val).float())\n",
        "    \n",
        "    # calculate loss\n",
        "    l_train = loss_fn(y_pred_train.reshape(-1), torch.from_numpy(y_train).float())\n",
        "    # calculate gradients with respect to l_train\n",
        "    l_train.backward()\n",
        "    # perform the optimization step with the optimizer\n",
        "    opt.step()\n",
        "    #######################\n",
        "    \n",
        "    train_accuracy = ((y_pred_train.detach().numpy() > 0.5) == y_train).mean()\n",
        "    val_accuracy = ((y_pred_val.detach().numpy() > 0.5) == y_val).mean()\n",
        "\n",
        "    elem = dict(epoch=epoch, loss=l_train.item(), train_accuracy=train_accuracy, val_accuracy=val_accuracy)\n",
        "    history.append(elem)\n",
        "    \n",
        "\n",
        "\n",
        "    \n",
        "plt.plot([h[\"epoch\"] for h in history], [h[\"loss\"] for h in history], label=\"loss\")\n",
        "plt.legend()\n",
        "plt.show()\n",
        "\n",
        "plt.plot([h[\"epoch\"] for h in history], [h[\"train_accuracy\"] for h in history], label=\"train acc\")\n",
        "plt.plot([h[\"epoch\"] for h in history], [h[\"val_accuracy\"] for h in history], label=\"val acc\")\n",
        "plt.legend()\n",
        "plt.show()"
      ]
    },
    {
      "cell_type": "markdown",
      "metadata": {
        "pycharm": {
          "name": "#%% md\n"
        },
        "id": "5mCMGnPhCxxk"
      },
      "source": [
        "## 4. FashionMNIST: a bigger task\n",
        "\n",
        "Let's now train a neural net on a more challenging, multi-label FashionMNIST task."
      ]
    },
    {
      "cell_type": "code",
      "execution_count": 40,
      "metadata": {
        "jupyter": {
          "outputs_hidden": false
        },
        "pycharm": {
          "name": "#%%\n"
        },
        "id": "L-OB5a4aCxxl"
      },
      "outputs": [],
      "source": [
        "from torchvision.datasets import FashionMNIST\n",
        "from torchvision import transforms as tv\n",
        "from torch.utils.data import DataLoader\n",
        "from sklearn.metrics import accuracy_score"
      ]
    },
    {
      "cell_type": "markdown",
      "metadata": {
        "id": "G-51hoTlCxxm"
      },
      "source": [
        "### Task: load the dataset and visualize some examples along with their classes\n",
        "* what is the shape of a single example from the dataset?"
      ]
    },
    {
      "cell_type": "code",
      "execution_count": 41,
      "metadata": {
        "id": "k8Z15KvuCxxn",
        "colab": {
          "base_uri": "https://localhost:8080/",
          "height": 423,
          "referenced_widgets": [
            "3caf628bcda54f0aa9bf8c8c9543c164",
            "93ea565d363049edbd20abc55dbbf49f",
            "524764d84d784492afc571724434d324",
            "b79e6be756714ec99cc81ca80a21a0d5",
            "a4011a74d58a4e518e6c87f1fe9f464b",
            "b7a66603a80e45ff912369c931d94bbf",
            "b61567ba8a94425f8bf4dd43642081ac",
            "051f58c2862445b08c9f25a94c1de847",
            "c44733443f71453a9328edfb25a53340",
            "7ef59f2524584bd7a06db39ab2bd3fb4",
            "ceab2f2e1bb34ba68f1859e965087c54",
            "13100cdce54e4873a0501507414d68ce",
            "3e061019d20949028f602f06c780187d",
            "394370423d4e46f9b4c6b2e1c78c5b02",
            "80abcb3d0b164f98ba93e60e603dc10e",
            "33e4a1e8458b4f86be1f99d8a1efcfc3",
            "501e771cf0ab46abb91b9b0bb67bbb95",
            "97f6fb972d104cfd8b8f5f2d6a487137",
            "0c268cc91d4546f4be3a6a1c8c6198be",
            "ddc8fd7567ef44c2a94b470f218eb6db",
            "c9259dde39b3407c8f2b73e286f022fb",
            "c0c66d6a1e674baf9ef6edc06aab38a8",
            "b71134dbf5b04f94a708fa9842b175ca",
            "c0ec453231d34104bbaa7595cc8130cc",
            "1ef1d178f1df4ed0b38f486d6b6aeddb",
            "b6ab2cdc172247e7a233903f84d7cd2a",
            "c0017d526b744b6a97b7f5bb6209fbf7",
            "c9803040d58f480dab69494af67b577e",
            "046d4d4f0acf4907961bd3675599ca4e",
            "ec767559619646f68351bfdc2d0fcdb2",
            "b4c319d29de64fe7a8a17ab3176c38c7",
            "42acea1bbf304ab9878461ee03e84826",
            "7ec233b40de842258e7d07943b093bc2",
            "940e773af5534a31a43ca6f4c6551649",
            "1d2cd7fcc99845509278e85f406e8db1",
            "293c932dc6044f239a24e2d43f7d5451",
            "fa6190acb87e4432a6cb2070cdb8c579",
            "e7867a360ba04292a3e02d9db627a4b3",
            "9d7f385fb0cb48f8b1590de2334a356a",
            "6643fe910b9e4a31b902142829d51da6",
            "195822e8f6884bebb90dbca1aba83304",
            "6b7d17d214ee498bbb8713fc2049573a",
            "903728021b4d40988b7725f8cd47ca76",
            "31f312f02c4d4856bd9b79f9c9cd3e73"
          ]
        },
        "outputId": "daa108b4-4479-4db8-d63c-75d57b1cac52"
      },
      "outputs": [
        {
          "output_type": "stream",
          "name": "stdout",
          "text": [
            "Downloading http://fashion-mnist.s3-website.eu-central-1.amazonaws.com/train-images-idx3-ubyte.gz\n",
            "Downloading http://fashion-mnist.s3-website.eu-central-1.amazonaws.com/train-images-idx3-ubyte.gz to ./data/FashionMNIST/raw/train-images-idx3-ubyte.gz\n"
          ]
        },
        {
          "output_type": "display_data",
          "data": {
            "text/plain": [
              "  0%|          | 0/26421880 [00:00<?, ?it/s]"
            ],
            "application/vnd.jupyter.widget-view+json": {
              "version_major": 2,
              "version_minor": 0,
              "model_id": "3caf628bcda54f0aa9bf8c8c9543c164"
            }
          },
          "metadata": {}
        },
        {
          "output_type": "stream",
          "name": "stdout",
          "text": [
            "Extracting ./data/FashionMNIST/raw/train-images-idx3-ubyte.gz to ./data/FashionMNIST/raw\n",
            "\n",
            "Downloading http://fashion-mnist.s3-website.eu-central-1.amazonaws.com/train-labels-idx1-ubyte.gz\n",
            "Downloading http://fashion-mnist.s3-website.eu-central-1.amazonaws.com/train-labels-idx1-ubyte.gz to ./data/FashionMNIST/raw/train-labels-idx1-ubyte.gz\n"
          ]
        },
        {
          "output_type": "display_data",
          "data": {
            "text/plain": [
              "  0%|          | 0/29515 [00:00<?, ?it/s]"
            ],
            "application/vnd.jupyter.widget-view+json": {
              "version_major": 2,
              "version_minor": 0,
              "model_id": "13100cdce54e4873a0501507414d68ce"
            }
          },
          "metadata": {}
        },
        {
          "output_type": "stream",
          "name": "stdout",
          "text": [
            "Extracting ./data/FashionMNIST/raw/train-labels-idx1-ubyte.gz to ./data/FashionMNIST/raw\n",
            "\n",
            "Downloading http://fashion-mnist.s3-website.eu-central-1.amazonaws.com/t10k-images-idx3-ubyte.gz\n",
            "Downloading http://fashion-mnist.s3-website.eu-central-1.amazonaws.com/t10k-images-idx3-ubyte.gz to ./data/FashionMNIST/raw/t10k-images-idx3-ubyte.gz\n"
          ]
        },
        {
          "output_type": "display_data",
          "data": {
            "text/plain": [
              "  0%|          | 0/4422102 [00:00<?, ?it/s]"
            ],
            "application/vnd.jupyter.widget-view+json": {
              "version_major": 2,
              "version_minor": 0,
              "model_id": "b71134dbf5b04f94a708fa9842b175ca"
            }
          },
          "metadata": {}
        },
        {
          "output_type": "stream",
          "name": "stdout",
          "text": [
            "Extracting ./data/FashionMNIST/raw/t10k-images-idx3-ubyte.gz to ./data/FashionMNIST/raw\n",
            "\n",
            "Downloading http://fashion-mnist.s3-website.eu-central-1.amazonaws.com/t10k-labels-idx1-ubyte.gz\n",
            "Downloading http://fashion-mnist.s3-website.eu-central-1.amazonaws.com/t10k-labels-idx1-ubyte.gz to ./data/FashionMNIST/raw/t10k-labels-idx1-ubyte.gz\n"
          ]
        },
        {
          "output_type": "display_data",
          "data": {
            "text/plain": [
              "  0%|          | 0/5148 [00:00<?, ?it/s]"
            ],
            "application/vnd.jupyter.widget-view+json": {
              "version_major": 2,
              "version_minor": 0,
              "model_id": "940e773af5534a31a43ca6f4c6551649"
            }
          },
          "metadata": {}
        },
        {
          "output_type": "stream",
          "name": "stdout",
          "text": [
            "Extracting ./data/FashionMNIST/raw/t10k-labels-idx1-ubyte.gz to ./data/FashionMNIST/raw\n",
            "\n"
          ]
        }
      ],
      "source": [
        "ds = FashionMNIST('./data', train=True, target_transform=None, download=True, transform=tv.ToTensor()) # transform the data from PIL image to a tensor\n",
        "ds_test = FashionMNIST('./data', train=False, target_transform=None, download=True, transform=tv.ToTensor()) # transform the data from PIL image to a tensor"
      ]
    },
    {
      "cell_type": "code",
      "execution_count": 42,
      "metadata": {
        "id": "zcNs5xXVCxxn"
      },
      "outputs": [],
      "source": [
        "batch_size=64\n",
        "\n",
        "train_dl = DataLoader(ds, batch_size, shuffle=True)\n",
        "valid_dl = DataLoader(ds_test, batch_size, shuffle=True)"
      ]
    },
    {
      "cell_type": "markdown",
      "metadata": {
        "id": "Vgznu8sSCxxo"
      },
      "source": [
        "### Task: implement and train a neural network with two linear layers and ReLU activation between them"
      ]
    },
    {
      "cell_type": "code",
      "execution_count": 65,
      "metadata": {
        "id": "5NzGppW9Cxxo"
      },
      "outputs": [],
      "source": [
        "class FashionNN(nn.Module):\n",
        "    def __init__(self):\n",
        "        super().__init__()\n",
        "        \n",
        "        # initialize the layers of the network\n",
        "        # what is the size of the input? 28x28\n",
        "        # what is the output size?       10\n",
        "        self.simplenet = nn.Sequential(\n",
        "            nn.Linear(28*28,80),\n",
        "            nn.ReLU(),\n",
        "            nn.Linear(80,10),\n",
        "        )\n",
        "        \n",
        "    def forward(self, x):\n",
        "        return self.simplenet(x)\n",
        "        "
      ]
    },
    {
      "cell_type": "code",
      "execution_count": 76,
      "metadata": {
        "id": "kzYc21oGCxxo"
      },
      "outputs": [],
      "source": [
        "net = FashionNN() # actually initialize the net\n",
        "loss_fn = nn.CrossEntropyLoss()\n",
        "opt = torch.optim.Adam(net.parameters(),1e-5) "
      ]
    },
    {
      "cell_type": "code",
      "source": [
        "def to_one_hot_vector(num_class, label):\n",
        "    b = torch.zeros((label.shape[0], num_class))\n",
        "    b[torch.arange(label.shape[0]), label] = 1\n",
        "    return b"
      ],
      "metadata": {
        "id": "uS-b1Lq5gsjZ"
      },
      "execution_count": 77,
      "outputs": []
    },
    {
      "cell_type": "code",
      "source": [
        "y_mod = to_one_hot_vector(10,y_train)"
      ],
      "metadata": {
        "id": "aUdoSyEiguA_"
      },
      "execution_count": 78,
      "outputs": []
    },
    {
      "cell_type": "code",
      "execution_count": 79,
      "metadata": {
        "id": "DS-zs0iqCxxq",
        "outputId": "c9817783-5b32-4d1b-af41-26883105ea89",
        "colab": {
          "base_uri": "https://localhost:8080/"
        }
      },
      "outputs": [
        {
          "output_type": "stream",
          "name": "stdout",
          "text": [
            "#Epoch: 0, train loss: 1.0179907083511353, val loss: 184.85823249816895 val_acc: 0.6513\n",
            "#Epoch: 1, train loss: 0.8121345043182373, val loss: 126.60734617710114 val_acc: 0.6918\n",
            "#Epoch: 2, train loss: 0.6565384268760681, val loss: 113.90141573548317 val_acc: 0.7319\n",
            "#Epoch: 3, train loss: 0.8698196411132812, val loss: 107.424825578928 val_acc: 0.7603\n",
            "#Epoch: 4, train loss: 1.2105358839035034, val loss: 102.27609613537788 val_acc: 0.7812\n",
            "#Epoch: 5, train loss: 0.711105227470398, val loss: 98.97761711478233 val_acc: 0.7905\n",
            "#Epoch: 6, train loss: 0.8603753447532654, val loss: 96.23789608478546 val_acc: 0.8008\n",
            "#Epoch: 7, train loss: 0.48310911655426025, val loss: 93.54600962996483 val_acc: 0.8077\n",
            "#Epoch: 8, train loss: 0.5183150768280029, val loss: 96.20088157057762 val_acc: 0.8007\n",
            "#Epoch: 9, train loss: 0.8858152031898499, val loss: 96.44251964986324 val_acc: 0.8059\n"
          ]
        }
      ],
      "source": [
        "number_of_epochs = 10\n",
        "\n",
        "for i in range(number_of_epochs):\n",
        "    train_loss = 0\n",
        "    for iteration, (X_train, y_train) in enumerate(train_dl):\n",
        "        # perform optimization on the train set and calculate the total train loss\n",
        "        y_train_pred = net(X_train.reshape(X_train.shape[0],-1))\n",
        "        y_train_mod = to_one_hot_vector(10,y_train)\n",
        "        train_loss = loss_fn(y_train_pred,y_train_mod)\n",
        "        train_loss.backward()\n",
        "        opt.step()\n",
        "        \n",
        "        \n",
        "    val_loss = 0\n",
        "    y_predicted = []\n",
        "    y_true = []\n",
        "\n",
        "    with torch.no_grad():\n",
        "        for iteration, (X_val, y_val) in enumerate(valid_dl):\n",
        "            # perform predictions on the validation set and gather them to calculate accuracy\n",
        "            y_val = to_one_hot_vector(10,y_val)\n",
        "            y_pred = net(X_val.reshape(X_val.shape[0],-1))\n",
        "            loss = loss_fn(y_pred, y_val)\n",
        "            val_loss += loss.item()\n",
        "            y_pred = y_pred.argmax(dim=1)\n",
        "            y_true.extend(y_val.numpy())\n",
        "            y_predicted.extend(y_pred.numpy())\n",
        "    \n",
        "    y_true = [y.argmax() for y in y_true]\n",
        "    val_acc = accuracy_score(y_true,y_predicted)\n",
        "    print(f'#Epoch: {i}, train loss: {train_loss}, val loss: {val_loss} val_acc: {val_acc}')\n",
        "    "
      ]
    },
    {
      "cell_type": "code",
      "source": [
        ""
      ],
      "metadata": {
        "id": "aZV_ciw50Oqr"
      },
      "execution_count": null,
      "outputs": []
    },
    {
      "cell_type": "code",
      "source": [
        ""
      ],
      "metadata": {
        "id": "WLygH7sS0PU8"
      },
      "execution_count": null,
      "outputs": []
    }
  ],
  "metadata": {
    "kernelspec": {
      "display_name": "uj",
      "language": "python",
      "name": "uj"
    },
    "language_info": {
      "codemirror_mode": {
        "name": "ipython",
        "version": 3
      },
      "file_extension": ".py",
      "mimetype": "text/x-python",
      "name": "python",
      "nbconvert_exporter": "python",
      "pygments_lexer": "ipython3",
      "version": "3.8.8"
    },
    "colab": {
      "name": "lab1.ipynb",
      "provenance": []
    },
    "widgets": {
      "application/vnd.jupyter.widget-state+json": {
        "3caf628bcda54f0aa9bf8c8c9543c164": {
          "model_module": "@jupyter-widgets/controls",
          "model_name": "HBoxModel",
          "model_module_version": "1.5.0",
          "state": {
            "_dom_classes": [],
            "_model_module": "@jupyter-widgets/controls",
            "_model_module_version": "1.5.0",
            "_model_name": "HBoxModel",
            "_view_count": null,
            "_view_module": "@jupyter-widgets/controls",
            "_view_module_version": "1.5.0",
            "_view_name": "HBoxView",
            "box_style": "",
            "children": [
              "IPY_MODEL_93ea565d363049edbd20abc55dbbf49f",
              "IPY_MODEL_524764d84d784492afc571724434d324",
              "IPY_MODEL_b79e6be756714ec99cc81ca80a21a0d5"
            ],
            "layout": "IPY_MODEL_a4011a74d58a4e518e6c87f1fe9f464b"
          }
        },
        "93ea565d363049edbd20abc55dbbf49f": {
          "model_module": "@jupyter-widgets/controls",
          "model_name": "HTMLModel",
          "model_module_version": "1.5.0",
          "state": {
            "_dom_classes": [],
            "_model_module": "@jupyter-widgets/controls",
            "_model_module_version": "1.5.0",
            "_model_name": "HTMLModel",
            "_view_count": null,
            "_view_module": "@jupyter-widgets/controls",
            "_view_module_version": "1.5.0",
            "_view_name": "HTMLView",
            "description": "",
            "description_tooltip": null,
            "layout": "IPY_MODEL_b7a66603a80e45ff912369c931d94bbf",
            "placeholder": "​",
            "style": "IPY_MODEL_b61567ba8a94425f8bf4dd43642081ac",
            "value": ""
          }
        },
        "524764d84d784492afc571724434d324": {
          "model_module": "@jupyter-widgets/controls",
          "model_name": "FloatProgressModel",
          "model_module_version": "1.5.0",
          "state": {
            "_dom_classes": [],
            "_model_module": "@jupyter-widgets/controls",
            "_model_module_version": "1.5.0",
            "_model_name": "FloatProgressModel",
            "_view_count": null,
            "_view_module": "@jupyter-widgets/controls",
            "_view_module_version": "1.5.0",
            "_view_name": "ProgressView",
            "bar_style": "success",
            "description": "",
            "description_tooltip": null,
            "layout": "IPY_MODEL_051f58c2862445b08c9f25a94c1de847",
            "max": 26421880,
            "min": 0,
            "orientation": "horizontal",
            "style": "IPY_MODEL_c44733443f71453a9328edfb25a53340",
            "value": 26421880
          }
        },
        "b79e6be756714ec99cc81ca80a21a0d5": {
          "model_module": "@jupyter-widgets/controls",
          "model_name": "HTMLModel",
          "model_module_version": "1.5.0",
          "state": {
            "_dom_classes": [],
            "_model_module": "@jupyter-widgets/controls",
            "_model_module_version": "1.5.0",
            "_model_name": "HTMLModel",
            "_view_count": null,
            "_view_module": "@jupyter-widgets/controls",
            "_view_module_version": "1.5.0",
            "_view_name": "HTMLView",
            "description": "",
            "description_tooltip": null,
            "layout": "IPY_MODEL_7ef59f2524584bd7a06db39ab2bd3fb4",
            "placeholder": "​",
            "style": "IPY_MODEL_ceab2f2e1bb34ba68f1859e965087c54",
            "value": " 26422272/? [00:00&lt;00:00, 96457395.32it/s]"
          }
        },
        "a4011a74d58a4e518e6c87f1fe9f464b": {
          "model_module": "@jupyter-widgets/base",
          "model_name": "LayoutModel",
          "model_module_version": "1.2.0",
          "state": {
            "_model_module": "@jupyter-widgets/base",
            "_model_module_version": "1.2.0",
            "_model_name": "LayoutModel",
            "_view_count": null,
            "_view_module": "@jupyter-widgets/base",
            "_view_module_version": "1.2.0",
            "_view_name": "LayoutView",
            "align_content": null,
            "align_items": null,
            "align_self": null,
            "border": null,
            "bottom": null,
            "display": null,
            "flex": null,
            "flex_flow": null,
            "grid_area": null,
            "grid_auto_columns": null,
            "grid_auto_flow": null,
            "grid_auto_rows": null,
            "grid_column": null,
            "grid_gap": null,
            "grid_row": null,
            "grid_template_areas": null,
            "grid_template_columns": null,
            "grid_template_rows": null,
            "height": null,
            "justify_content": null,
            "justify_items": null,
            "left": null,
            "margin": null,
            "max_height": null,
            "max_width": null,
            "min_height": null,
            "min_width": null,
            "object_fit": null,
            "object_position": null,
            "order": null,
            "overflow": null,
            "overflow_x": null,
            "overflow_y": null,
            "padding": null,
            "right": null,
            "top": null,
            "visibility": null,
            "width": null
          }
        },
        "b7a66603a80e45ff912369c931d94bbf": {
          "model_module": "@jupyter-widgets/base",
          "model_name": "LayoutModel",
          "model_module_version": "1.2.0",
          "state": {
            "_model_module": "@jupyter-widgets/base",
            "_model_module_version": "1.2.0",
            "_model_name": "LayoutModel",
            "_view_count": null,
            "_view_module": "@jupyter-widgets/base",
            "_view_module_version": "1.2.0",
            "_view_name": "LayoutView",
            "align_content": null,
            "align_items": null,
            "align_self": null,
            "border": null,
            "bottom": null,
            "display": null,
            "flex": null,
            "flex_flow": null,
            "grid_area": null,
            "grid_auto_columns": null,
            "grid_auto_flow": null,
            "grid_auto_rows": null,
            "grid_column": null,
            "grid_gap": null,
            "grid_row": null,
            "grid_template_areas": null,
            "grid_template_columns": null,
            "grid_template_rows": null,
            "height": null,
            "justify_content": null,
            "justify_items": null,
            "left": null,
            "margin": null,
            "max_height": null,
            "max_width": null,
            "min_height": null,
            "min_width": null,
            "object_fit": null,
            "object_position": null,
            "order": null,
            "overflow": null,
            "overflow_x": null,
            "overflow_y": null,
            "padding": null,
            "right": null,
            "top": null,
            "visibility": null,
            "width": null
          }
        },
        "b61567ba8a94425f8bf4dd43642081ac": {
          "model_module": "@jupyter-widgets/controls",
          "model_name": "DescriptionStyleModel",
          "model_module_version": "1.5.0",
          "state": {
            "_model_module": "@jupyter-widgets/controls",
            "_model_module_version": "1.5.0",
            "_model_name": "DescriptionStyleModel",
            "_view_count": null,
            "_view_module": "@jupyter-widgets/base",
            "_view_module_version": "1.2.0",
            "_view_name": "StyleView",
            "description_width": ""
          }
        },
        "051f58c2862445b08c9f25a94c1de847": {
          "model_module": "@jupyter-widgets/base",
          "model_name": "LayoutModel",
          "model_module_version": "1.2.0",
          "state": {
            "_model_module": "@jupyter-widgets/base",
            "_model_module_version": "1.2.0",
            "_model_name": "LayoutModel",
            "_view_count": null,
            "_view_module": "@jupyter-widgets/base",
            "_view_module_version": "1.2.0",
            "_view_name": "LayoutView",
            "align_content": null,
            "align_items": null,
            "align_self": null,
            "border": null,
            "bottom": null,
            "display": null,
            "flex": null,
            "flex_flow": null,
            "grid_area": null,
            "grid_auto_columns": null,
            "grid_auto_flow": null,
            "grid_auto_rows": null,
            "grid_column": null,
            "grid_gap": null,
            "grid_row": null,
            "grid_template_areas": null,
            "grid_template_columns": null,
            "grid_template_rows": null,
            "height": null,
            "justify_content": null,
            "justify_items": null,
            "left": null,
            "margin": null,
            "max_height": null,
            "max_width": null,
            "min_height": null,
            "min_width": null,
            "object_fit": null,
            "object_position": null,
            "order": null,
            "overflow": null,
            "overflow_x": null,
            "overflow_y": null,
            "padding": null,
            "right": null,
            "top": null,
            "visibility": null,
            "width": null
          }
        },
        "c44733443f71453a9328edfb25a53340": {
          "model_module": "@jupyter-widgets/controls",
          "model_name": "ProgressStyleModel",
          "model_module_version": "1.5.0",
          "state": {
            "_model_module": "@jupyter-widgets/controls",
            "_model_module_version": "1.5.0",
            "_model_name": "ProgressStyleModel",
            "_view_count": null,
            "_view_module": "@jupyter-widgets/base",
            "_view_module_version": "1.2.0",
            "_view_name": "StyleView",
            "bar_color": null,
            "description_width": ""
          }
        },
        "7ef59f2524584bd7a06db39ab2bd3fb4": {
          "model_module": "@jupyter-widgets/base",
          "model_name": "LayoutModel",
          "model_module_version": "1.2.0",
          "state": {
            "_model_module": "@jupyter-widgets/base",
            "_model_module_version": "1.2.0",
            "_model_name": "LayoutModel",
            "_view_count": null,
            "_view_module": "@jupyter-widgets/base",
            "_view_module_version": "1.2.0",
            "_view_name": "LayoutView",
            "align_content": null,
            "align_items": null,
            "align_self": null,
            "border": null,
            "bottom": null,
            "display": null,
            "flex": null,
            "flex_flow": null,
            "grid_area": null,
            "grid_auto_columns": null,
            "grid_auto_flow": null,
            "grid_auto_rows": null,
            "grid_column": null,
            "grid_gap": null,
            "grid_row": null,
            "grid_template_areas": null,
            "grid_template_columns": null,
            "grid_template_rows": null,
            "height": null,
            "justify_content": null,
            "justify_items": null,
            "left": null,
            "margin": null,
            "max_height": null,
            "max_width": null,
            "min_height": null,
            "min_width": null,
            "object_fit": null,
            "object_position": null,
            "order": null,
            "overflow": null,
            "overflow_x": null,
            "overflow_y": null,
            "padding": null,
            "right": null,
            "top": null,
            "visibility": null,
            "width": null
          }
        },
        "ceab2f2e1bb34ba68f1859e965087c54": {
          "model_module": "@jupyter-widgets/controls",
          "model_name": "DescriptionStyleModel",
          "model_module_version": "1.5.0",
          "state": {
            "_model_module": "@jupyter-widgets/controls",
            "_model_module_version": "1.5.0",
            "_model_name": "DescriptionStyleModel",
            "_view_count": null,
            "_view_module": "@jupyter-widgets/base",
            "_view_module_version": "1.2.0",
            "_view_name": "StyleView",
            "description_width": ""
          }
        },
        "13100cdce54e4873a0501507414d68ce": {
          "model_module": "@jupyter-widgets/controls",
          "model_name": "HBoxModel",
          "model_module_version": "1.5.0",
          "state": {
            "_dom_classes": [],
            "_model_module": "@jupyter-widgets/controls",
            "_model_module_version": "1.5.0",
            "_model_name": "HBoxModel",
            "_view_count": null,
            "_view_module": "@jupyter-widgets/controls",
            "_view_module_version": "1.5.0",
            "_view_name": "HBoxView",
            "box_style": "",
            "children": [
              "IPY_MODEL_3e061019d20949028f602f06c780187d",
              "IPY_MODEL_394370423d4e46f9b4c6b2e1c78c5b02",
              "IPY_MODEL_80abcb3d0b164f98ba93e60e603dc10e"
            ],
            "layout": "IPY_MODEL_33e4a1e8458b4f86be1f99d8a1efcfc3"
          }
        },
        "3e061019d20949028f602f06c780187d": {
          "model_module": "@jupyter-widgets/controls",
          "model_name": "HTMLModel",
          "model_module_version": "1.5.0",
          "state": {
            "_dom_classes": [],
            "_model_module": "@jupyter-widgets/controls",
            "_model_module_version": "1.5.0",
            "_model_name": "HTMLModel",
            "_view_count": null,
            "_view_module": "@jupyter-widgets/controls",
            "_view_module_version": "1.5.0",
            "_view_name": "HTMLView",
            "description": "",
            "description_tooltip": null,
            "layout": "IPY_MODEL_501e771cf0ab46abb91b9b0bb67bbb95",
            "placeholder": "​",
            "style": "IPY_MODEL_97f6fb972d104cfd8b8f5f2d6a487137",
            "value": ""
          }
        },
        "394370423d4e46f9b4c6b2e1c78c5b02": {
          "model_module": "@jupyter-widgets/controls",
          "model_name": "FloatProgressModel",
          "model_module_version": "1.5.0",
          "state": {
            "_dom_classes": [],
            "_model_module": "@jupyter-widgets/controls",
            "_model_module_version": "1.5.0",
            "_model_name": "FloatProgressModel",
            "_view_count": null,
            "_view_module": "@jupyter-widgets/controls",
            "_view_module_version": "1.5.0",
            "_view_name": "ProgressView",
            "bar_style": "success",
            "description": "",
            "description_tooltip": null,
            "layout": "IPY_MODEL_0c268cc91d4546f4be3a6a1c8c6198be",
            "max": 29515,
            "min": 0,
            "orientation": "horizontal",
            "style": "IPY_MODEL_ddc8fd7567ef44c2a94b470f218eb6db",
            "value": 29515
          }
        },
        "80abcb3d0b164f98ba93e60e603dc10e": {
          "model_module": "@jupyter-widgets/controls",
          "model_name": "HTMLModel",
          "model_module_version": "1.5.0",
          "state": {
            "_dom_classes": [],
            "_model_module": "@jupyter-widgets/controls",
            "_model_module_version": "1.5.0",
            "_model_name": "HTMLModel",
            "_view_count": null,
            "_view_module": "@jupyter-widgets/controls",
            "_view_module_version": "1.5.0",
            "_view_name": "HTMLView",
            "description": "",
            "description_tooltip": null,
            "layout": "IPY_MODEL_c9259dde39b3407c8f2b73e286f022fb",
            "placeholder": "​",
            "style": "IPY_MODEL_c0c66d6a1e674baf9ef6edc06aab38a8",
            "value": " 29696/? [00:00&lt;00:00, 764341.61it/s]"
          }
        },
        "33e4a1e8458b4f86be1f99d8a1efcfc3": {
          "model_module": "@jupyter-widgets/base",
          "model_name": "LayoutModel",
          "model_module_version": "1.2.0",
          "state": {
            "_model_module": "@jupyter-widgets/base",
            "_model_module_version": "1.2.0",
            "_model_name": "LayoutModel",
            "_view_count": null,
            "_view_module": "@jupyter-widgets/base",
            "_view_module_version": "1.2.0",
            "_view_name": "LayoutView",
            "align_content": null,
            "align_items": null,
            "align_self": null,
            "border": null,
            "bottom": null,
            "display": null,
            "flex": null,
            "flex_flow": null,
            "grid_area": null,
            "grid_auto_columns": null,
            "grid_auto_flow": null,
            "grid_auto_rows": null,
            "grid_column": null,
            "grid_gap": null,
            "grid_row": null,
            "grid_template_areas": null,
            "grid_template_columns": null,
            "grid_template_rows": null,
            "height": null,
            "justify_content": null,
            "justify_items": null,
            "left": null,
            "margin": null,
            "max_height": null,
            "max_width": null,
            "min_height": null,
            "min_width": null,
            "object_fit": null,
            "object_position": null,
            "order": null,
            "overflow": null,
            "overflow_x": null,
            "overflow_y": null,
            "padding": null,
            "right": null,
            "top": null,
            "visibility": null,
            "width": null
          }
        },
        "501e771cf0ab46abb91b9b0bb67bbb95": {
          "model_module": "@jupyter-widgets/base",
          "model_name": "LayoutModel",
          "model_module_version": "1.2.0",
          "state": {
            "_model_module": "@jupyter-widgets/base",
            "_model_module_version": "1.2.0",
            "_model_name": "LayoutModel",
            "_view_count": null,
            "_view_module": "@jupyter-widgets/base",
            "_view_module_version": "1.2.0",
            "_view_name": "LayoutView",
            "align_content": null,
            "align_items": null,
            "align_self": null,
            "border": null,
            "bottom": null,
            "display": null,
            "flex": null,
            "flex_flow": null,
            "grid_area": null,
            "grid_auto_columns": null,
            "grid_auto_flow": null,
            "grid_auto_rows": null,
            "grid_column": null,
            "grid_gap": null,
            "grid_row": null,
            "grid_template_areas": null,
            "grid_template_columns": null,
            "grid_template_rows": null,
            "height": null,
            "justify_content": null,
            "justify_items": null,
            "left": null,
            "margin": null,
            "max_height": null,
            "max_width": null,
            "min_height": null,
            "min_width": null,
            "object_fit": null,
            "object_position": null,
            "order": null,
            "overflow": null,
            "overflow_x": null,
            "overflow_y": null,
            "padding": null,
            "right": null,
            "top": null,
            "visibility": null,
            "width": null
          }
        },
        "97f6fb972d104cfd8b8f5f2d6a487137": {
          "model_module": "@jupyter-widgets/controls",
          "model_name": "DescriptionStyleModel",
          "model_module_version": "1.5.0",
          "state": {
            "_model_module": "@jupyter-widgets/controls",
            "_model_module_version": "1.5.0",
            "_model_name": "DescriptionStyleModel",
            "_view_count": null,
            "_view_module": "@jupyter-widgets/base",
            "_view_module_version": "1.2.0",
            "_view_name": "StyleView",
            "description_width": ""
          }
        },
        "0c268cc91d4546f4be3a6a1c8c6198be": {
          "model_module": "@jupyter-widgets/base",
          "model_name": "LayoutModel",
          "model_module_version": "1.2.0",
          "state": {
            "_model_module": "@jupyter-widgets/base",
            "_model_module_version": "1.2.0",
            "_model_name": "LayoutModel",
            "_view_count": null,
            "_view_module": "@jupyter-widgets/base",
            "_view_module_version": "1.2.0",
            "_view_name": "LayoutView",
            "align_content": null,
            "align_items": null,
            "align_self": null,
            "border": null,
            "bottom": null,
            "display": null,
            "flex": null,
            "flex_flow": null,
            "grid_area": null,
            "grid_auto_columns": null,
            "grid_auto_flow": null,
            "grid_auto_rows": null,
            "grid_column": null,
            "grid_gap": null,
            "grid_row": null,
            "grid_template_areas": null,
            "grid_template_columns": null,
            "grid_template_rows": null,
            "height": null,
            "justify_content": null,
            "justify_items": null,
            "left": null,
            "margin": null,
            "max_height": null,
            "max_width": null,
            "min_height": null,
            "min_width": null,
            "object_fit": null,
            "object_position": null,
            "order": null,
            "overflow": null,
            "overflow_x": null,
            "overflow_y": null,
            "padding": null,
            "right": null,
            "top": null,
            "visibility": null,
            "width": null
          }
        },
        "ddc8fd7567ef44c2a94b470f218eb6db": {
          "model_module": "@jupyter-widgets/controls",
          "model_name": "ProgressStyleModel",
          "model_module_version": "1.5.0",
          "state": {
            "_model_module": "@jupyter-widgets/controls",
            "_model_module_version": "1.5.0",
            "_model_name": "ProgressStyleModel",
            "_view_count": null,
            "_view_module": "@jupyter-widgets/base",
            "_view_module_version": "1.2.0",
            "_view_name": "StyleView",
            "bar_color": null,
            "description_width": ""
          }
        },
        "c9259dde39b3407c8f2b73e286f022fb": {
          "model_module": "@jupyter-widgets/base",
          "model_name": "LayoutModel",
          "model_module_version": "1.2.0",
          "state": {
            "_model_module": "@jupyter-widgets/base",
            "_model_module_version": "1.2.0",
            "_model_name": "LayoutModel",
            "_view_count": null,
            "_view_module": "@jupyter-widgets/base",
            "_view_module_version": "1.2.0",
            "_view_name": "LayoutView",
            "align_content": null,
            "align_items": null,
            "align_self": null,
            "border": null,
            "bottom": null,
            "display": null,
            "flex": null,
            "flex_flow": null,
            "grid_area": null,
            "grid_auto_columns": null,
            "grid_auto_flow": null,
            "grid_auto_rows": null,
            "grid_column": null,
            "grid_gap": null,
            "grid_row": null,
            "grid_template_areas": null,
            "grid_template_columns": null,
            "grid_template_rows": null,
            "height": null,
            "justify_content": null,
            "justify_items": null,
            "left": null,
            "margin": null,
            "max_height": null,
            "max_width": null,
            "min_height": null,
            "min_width": null,
            "object_fit": null,
            "object_position": null,
            "order": null,
            "overflow": null,
            "overflow_x": null,
            "overflow_y": null,
            "padding": null,
            "right": null,
            "top": null,
            "visibility": null,
            "width": null
          }
        },
        "c0c66d6a1e674baf9ef6edc06aab38a8": {
          "model_module": "@jupyter-widgets/controls",
          "model_name": "DescriptionStyleModel",
          "model_module_version": "1.5.0",
          "state": {
            "_model_module": "@jupyter-widgets/controls",
            "_model_module_version": "1.5.0",
            "_model_name": "DescriptionStyleModel",
            "_view_count": null,
            "_view_module": "@jupyter-widgets/base",
            "_view_module_version": "1.2.0",
            "_view_name": "StyleView",
            "description_width": ""
          }
        },
        "b71134dbf5b04f94a708fa9842b175ca": {
          "model_module": "@jupyter-widgets/controls",
          "model_name": "HBoxModel",
          "model_module_version": "1.5.0",
          "state": {
            "_dom_classes": [],
            "_model_module": "@jupyter-widgets/controls",
            "_model_module_version": "1.5.0",
            "_model_name": "HBoxModel",
            "_view_count": null,
            "_view_module": "@jupyter-widgets/controls",
            "_view_module_version": "1.5.0",
            "_view_name": "HBoxView",
            "box_style": "",
            "children": [
              "IPY_MODEL_c0ec453231d34104bbaa7595cc8130cc",
              "IPY_MODEL_1ef1d178f1df4ed0b38f486d6b6aeddb",
              "IPY_MODEL_b6ab2cdc172247e7a233903f84d7cd2a"
            ],
            "layout": "IPY_MODEL_c0017d526b744b6a97b7f5bb6209fbf7"
          }
        },
        "c0ec453231d34104bbaa7595cc8130cc": {
          "model_module": "@jupyter-widgets/controls",
          "model_name": "HTMLModel",
          "model_module_version": "1.5.0",
          "state": {
            "_dom_classes": [],
            "_model_module": "@jupyter-widgets/controls",
            "_model_module_version": "1.5.0",
            "_model_name": "HTMLModel",
            "_view_count": null,
            "_view_module": "@jupyter-widgets/controls",
            "_view_module_version": "1.5.0",
            "_view_name": "HTMLView",
            "description": "",
            "description_tooltip": null,
            "layout": "IPY_MODEL_c9803040d58f480dab69494af67b577e",
            "placeholder": "​",
            "style": "IPY_MODEL_046d4d4f0acf4907961bd3675599ca4e",
            "value": ""
          }
        },
        "1ef1d178f1df4ed0b38f486d6b6aeddb": {
          "model_module": "@jupyter-widgets/controls",
          "model_name": "FloatProgressModel",
          "model_module_version": "1.5.0",
          "state": {
            "_dom_classes": [],
            "_model_module": "@jupyter-widgets/controls",
            "_model_module_version": "1.5.0",
            "_model_name": "FloatProgressModel",
            "_view_count": null,
            "_view_module": "@jupyter-widgets/controls",
            "_view_module_version": "1.5.0",
            "_view_name": "ProgressView",
            "bar_style": "success",
            "description": "",
            "description_tooltip": null,
            "layout": "IPY_MODEL_ec767559619646f68351bfdc2d0fcdb2",
            "max": 4422102,
            "min": 0,
            "orientation": "horizontal",
            "style": "IPY_MODEL_b4c319d29de64fe7a8a17ab3176c38c7",
            "value": 4422102
          }
        },
        "b6ab2cdc172247e7a233903f84d7cd2a": {
          "model_module": "@jupyter-widgets/controls",
          "model_name": "HTMLModel",
          "model_module_version": "1.5.0",
          "state": {
            "_dom_classes": [],
            "_model_module": "@jupyter-widgets/controls",
            "_model_module_version": "1.5.0",
            "_model_name": "HTMLModel",
            "_view_count": null,
            "_view_module": "@jupyter-widgets/controls",
            "_view_module_version": "1.5.0",
            "_view_name": "HTMLView",
            "description": "",
            "description_tooltip": null,
            "layout": "IPY_MODEL_42acea1bbf304ab9878461ee03e84826",
            "placeholder": "​",
            "style": "IPY_MODEL_7ec233b40de842258e7d07943b093bc2",
            "value": " 4422656/? [00:00&lt;00:00, 8216010.80it/s]"
          }
        },
        "c0017d526b744b6a97b7f5bb6209fbf7": {
          "model_module": "@jupyter-widgets/base",
          "model_name": "LayoutModel",
          "model_module_version": "1.2.0",
          "state": {
            "_model_module": "@jupyter-widgets/base",
            "_model_module_version": "1.2.0",
            "_model_name": "LayoutModel",
            "_view_count": null,
            "_view_module": "@jupyter-widgets/base",
            "_view_module_version": "1.2.0",
            "_view_name": "LayoutView",
            "align_content": null,
            "align_items": null,
            "align_self": null,
            "border": null,
            "bottom": null,
            "display": null,
            "flex": null,
            "flex_flow": null,
            "grid_area": null,
            "grid_auto_columns": null,
            "grid_auto_flow": null,
            "grid_auto_rows": null,
            "grid_column": null,
            "grid_gap": null,
            "grid_row": null,
            "grid_template_areas": null,
            "grid_template_columns": null,
            "grid_template_rows": null,
            "height": null,
            "justify_content": null,
            "justify_items": null,
            "left": null,
            "margin": null,
            "max_height": null,
            "max_width": null,
            "min_height": null,
            "min_width": null,
            "object_fit": null,
            "object_position": null,
            "order": null,
            "overflow": null,
            "overflow_x": null,
            "overflow_y": null,
            "padding": null,
            "right": null,
            "top": null,
            "visibility": null,
            "width": null
          }
        },
        "c9803040d58f480dab69494af67b577e": {
          "model_module": "@jupyter-widgets/base",
          "model_name": "LayoutModel",
          "model_module_version": "1.2.0",
          "state": {
            "_model_module": "@jupyter-widgets/base",
            "_model_module_version": "1.2.0",
            "_model_name": "LayoutModel",
            "_view_count": null,
            "_view_module": "@jupyter-widgets/base",
            "_view_module_version": "1.2.0",
            "_view_name": "LayoutView",
            "align_content": null,
            "align_items": null,
            "align_self": null,
            "border": null,
            "bottom": null,
            "display": null,
            "flex": null,
            "flex_flow": null,
            "grid_area": null,
            "grid_auto_columns": null,
            "grid_auto_flow": null,
            "grid_auto_rows": null,
            "grid_column": null,
            "grid_gap": null,
            "grid_row": null,
            "grid_template_areas": null,
            "grid_template_columns": null,
            "grid_template_rows": null,
            "height": null,
            "justify_content": null,
            "justify_items": null,
            "left": null,
            "margin": null,
            "max_height": null,
            "max_width": null,
            "min_height": null,
            "min_width": null,
            "object_fit": null,
            "object_position": null,
            "order": null,
            "overflow": null,
            "overflow_x": null,
            "overflow_y": null,
            "padding": null,
            "right": null,
            "top": null,
            "visibility": null,
            "width": null
          }
        },
        "046d4d4f0acf4907961bd3675599ca4e": {
          "model_module": "@jupyter-widgets/controls",
          "model_name": "DescriptionStyleModel",
          "model_module_version": "1.5.0",
          "state": {
            "_model_module": "@jupyter-widgets/controls",
            "_model_module_version": "1.5.0",
            "_model_name": "DescriptionStyleModel",
            "_view_count": null,
            "_view_module": "@jupyter-widgets/base",
            "_view_module_version": "1.2.0",
            "_view_name": "StyleView",
            "description_width": ""
          }
        },
        "ec767559619646f68351bfdc2d0fcdb2": {
          "model_module": "@jupyter-widgets/base",
          "model_name": "LayoutModel",
          "model_module_version": "1.2.0",
          "state": {
            "_model_module": "@jupyter-widgets/base",
            "_model_module_version": "1.2.0",
            "_model_name": "LayoutModel",
            "_view_count": null,
            "_view_module": "@jupyter-widgets/base",
            "_view_module_version": "1.2.0",
            "_view_name": "LayoutView",
            "align_content": null,
            "align_items": null,
            "align_self": null,
            "border": null,
            "bottom": null,
            "display": null,
            "flex": null,
            "flex_flow": null,
            "grid_area": null,
            "grid_auto_columns": null,
            "grid_auto_flow": null,
            "grid_auto_rows": null,
            "grid_column": null,
            "grid_gap": null,
            "grid_row": null,
            "grid_template_areas": null,
            "grid_template_columns": null,
            "grid_template_rows": null,
            "height": null,
            "justify_content": null,
            "justify_items": null,
            "left": null,
            "margin": null,
            "max_height": null,
            "max_width": null,
            "min_height": null,
            "min_width": null,
            "object_fit": null,
            "object_position": null,
            "order": null,
            "overflow": null,
            "overflow_x": null,
            "overflow_y": null,
            "padding": null,
            "right": null,
            "top": null,
            "visibility": null,
            "width": null
          }
        },
        "b4c319d29de64fe7a8a17ab3176c38c7": {
          "model_module": "@jupyter-widgets/controls",
          "model_name": "ProgressStyleModel",
          "model_module_version": "1.5.0",
          "state": {
            "_model_module": "@jupyter-widgets/controls",
            "_model_module_version": "1.5.0",
            "_model_name": "ProgressStyleModel",
            "_view_count": null,
            "_view_module": "@jupyter-widgets/base",
            "_view_module_version": "1.2.0",
            "_view_name": "StyleView",
            "bar_color": null,
            "description_width": ""
          }
        },
        "42acea1bbf304ab9878461ee03e84826": {
          "model_module": "@jupyter-widgets/base",
          "model_name": "LayoutModel",
          "model_module_version": "1.2.0",
          "state": {
            "_model_module": "@jupyter-widgets/base",
            "_model_module_version": "1.2.0",
            "_model_name": "LayoutModel",
            "_view_count": null,
            "_view_module": "@jupyter-widgets/base",
            "_view_module_version": "1.2.0",
            "_view_name": "LayoutView",
            "align_content": null,
            "align_items": null,
            "align_self": null,
            "border": null,
            "bottom": null,
            "display": null,
            "flex": null,
            "flex_flow": null,
            "grid_area": null,
            "grid_auto_columns": null,
            "grid_auto_flow": null,
            "grid_auto_rows": null,
            "grid_column": null,
            "grid_gap": null,
            "grid_row": null,
            "grid_template_areas": null,
            "grid_template_columns": null,
            "grid_template_rows": null,
            "height": null,
            "justify_content": null,
            "justify_items": null,
            "left": null,
            "margin": null,
            "max_height": null,
            "max_width": null,
            "min_height": null,
            "min_width": null,
            "object_fit": null,
            "object_position": null,
            "order": null,
            "overflow": null,
            "overflow_x": null,
            "overflow_y": null,
            "padding": null,
            "right": null,
            "top": null,
            "visibility": null,
            "width": null
          }
        },
        "7ec233b40de842258e7d07943b093bc2": {
          "model_module": "@jupyter-widgets/controls",
          "model_name": "DescriptionStyleModel",
          "model_module_version": "1.5.0",
          "state": {
            "_model_module": "@jupyter-widgets/controls",
            "_model_module_version": "1.5.0",
            "_model_name": "DescriptionStyleModel",
            "_view_count": null,
            "_view_module": "@jupyter-widgets/base",
            "_view_module_version": "1.2.0",
            "_view_name": "StyleView",
            "description_width": ""
          }
        },
        "940e773af5534a31a43ca6f4c6551649": {
          "model_module": "@jupyter-widgets/controls",
          "model_name": "HBoxModel",
          "model_module_version": "1.5.0",
          "state": {
            "_dom_classes": [],
            "_model_module": "@jupyter-widgets/controls",
            "_model_module_version": "1.5.0",
            "_model_name": "HBoxModel",
            "_view_count": null,
            "_view_module": "@jupyter-widgets/controls",
            "_view_module_version": "1.5.0",
            "_view_name": "HBoxView",
            "box_style": "",
            "children": [
              "IPY_MODEL_1d2cd7fcc99845509278e85f406e8db1",
              "IPY_MODEL_293c932dc6044f239a24e2d43f7d5451",
              "IPY_MODEL_fa6190acb87e4432a6cb2070cdb8c579"
            ],
            "layout": "IPY_MODEL_e7867a360ba04292a3e02d9db627a4b3"
          }
        },
        "1d2cd7fcc99845509278e85f406e8db1": {
          "model_module": "@jupyter-widgets/controls",
          "model_name": "HTMLModel",
          "model_module_version": "1.5.0",
          "state": {
            "_dom_classes": [],
            "_model_module": "@jupyter-widgets/controls",
            "_model_module_version": "1.5.0",
            "_model_name": "HTMLModel",
            "_view_count": null,
            "_view_module": "@jupyter-widgets/controls",
            "_view_module_version": "1.5.0",
            "_view_name": "HTMLView",
            "description": "",
            "description_tooltip": null,
            "layout": "IPY_MODEL_9d7f385fb0cb48f8b1590de2334a356a",
            "placeholder": "​",
            "style": "IPY_MODEL_6643fe910b9e4a31b902142829d51da6",
            "value": ""
          }
        },
        "293c932dc6044f239a24e2d43f7d5451": {
          "model_module": "@jupyter-widgets/controls",
          "model_name": "FloatProgressModel",
          "model_module_version": "1.5.0",
          "state": {
            "_dom_classes": [],
            "_model_module": "@jupyter-widgets/controls",
            "_model_module_version": "1.5.0",
            "_model_name": "FloatProgressModel",
            "_view_count": null,
            "_view_module": "@jupyter-widgets/controls",
            "_view_module_version": "1.5.0",
            "_view_name": "ProgressView",
            "bar_style": "success",
            "description": "",
            "description_tooltip": null,
            "layout": "IPY_MODEL_195822e8f6884bebb90dbca1aba83304",
            "max": 5148,
            "min": 0,
            "orientation": "horizontal",
            "style": "IPY_MODEL_6b7d17d214ee498bbb8713fc2049573a",
            "value": 5148
          }
        },
        "fa6190acb87e4432a6cb2070cdb8c579": {
          "model_module": "@jupyter-widgets/controls",
          "model_name": "HTMLModel",
          "model_module_version": "1.5.0",
          "state": {
            "_dom_classes": [],
            "_model_module": "@jupyter-widgets/controls",
            "_model_module_version": "1.5.0",
            "_model_name": "HTMLModel",
            "_view_count": null,
            "_view_module": "@jupyter-widgets/controls",
            "_view_module_version": "1.5.0",
            "_view_name": "HTMLView",
            "description": "",
            "description_tooltip": null,
            "layout": "IPY_MODEL_903728021b4d40988b7725f8cd47ca76",
            "placeholder": "​",
            "style": "IPY_MODEL_31f312f02c4d4856bd9b79f9c9cd3e73",
            "value": " 6144/? [00:00&lt;00:00, 142568.37it/s]"
          }
        },
        "e7867a360ba04292a3e02d9db627a4b3": {
          "model_module": "@jupyter-widgets/base",
          "model_name": "LayoutModel",
          "model_module_version": "1.2.0",
          "state": {
            "_model_module": "@jupyter-widgets/base",
            "_model_module_version": "1.2.0",
            "_model_name": "LayoutModel",
            "_view_count": null,
            "_view_module": "@jupyter-widgets/base",
            "_view_module_version": "1.2.0",
            "_view_name": "LayoutView",
            "align_content": null,
            "align_items": null,
            "align_self": null,
            "border": null,
            "bottom": null,
            "display": null,
            "flex": null,
            "flex_flow": null,
            "grid_area": null,
            "grid_auto_columns": null,
            "grid_auto_flow": null,
            "grid_auto_rows": null,
            "grid_column": null,
            "grid_gap": null,
            "grid_row": null,
            "grid_template_areas": null,
            "grid_template_columns": null,
            "grid_template_rows": null,
            "height": null,
            "justify_content": null,
            "justify_items": null,
            "left": null,
            "margin": null,
            "max_height": null,
            "max_width": null,
            "min_height": null,
            "min_width": null,
            "object_fit": null,
            "object_position": null,
            "order": null,
            "overflow": null,
            "overflow_x": null,
            "overflow_y": null,
            "padding": null,
            "right": null,
            "top": null,
            "visibility": null,
            "width": null
          }
        },
        "9d7f385fb0cb48f8b1590de2334a356a": {
          "model_module": "@jupyter-widgets/base",
          "model_name": "LayoutModel",
          "model_module_version": "1.2.0",
          "state": {
            "_model_module": "@jupyter-widgets/base",
            "_model_module_version": "1.2.0",
            "_model_name": "LayoutModel",
            "_view_count": null,
            "_view_module": "@jupyter-widgets/base",
            "_view_module_version": "1.2.0",
            "_view_name": "LayoutView",
            "align_content": null,
            "align_items": null,
            "align_self": null,
            "border": null,
            "bottom": null,
            "display": null,
            "flex": null,
            "flex_flow": null,
            "grid_area": null,
            "grid_auto_columns": null,
            "grid_auto_flow": null,
            "grid_auto_rows": null,
            "grid_column": null,
            "grid_gap": null,
            "grid_row": null,
            "grid_template_areas": null,
            "grid_template_columns": null,
            "grid_template_rows": null,
            "height": null,
            "justify_content": null,
            "justify_items": null,
            "left": null,
            "margin": null,
            "max_height": null,
            "max_width": null,
            "min_height": null,
            "min_width": null,
            "object_fit": null,
            "object_position": null,
            "order": null,
            "overflow": null,
            "overflow_x": null,
            "overflow_y": null,
            "padding": null,
            "right": null,
            "top": null,
            "visibility": null,
            "width": null
          }
        },
        "6643fe910b9e4a31b902142829d51da6": {
          "model_module": "@jupyter-widgets/controls",
          "model_name": "DescriptionStyleModel",
          "model_module_version": "1.5.0",
          "state": {
            "_model_module": "@jupyter-widgets/controls",
            "_model_module_version": "1.5.0",
            "_model_name": "DescriptionStyleModel",
            "_view_count": null,
            "_view_module": "@jupyter-widgets/base",
            "_view_module_version": "1.2.0",
            "_view_name": "StyleView",
            "description_width": ""
          }
        },
        "195822e8f6884bebb90dbca1aba83304": {
          "model_module": "@jupyter-widgets/base",
          "model_name": "LayoutModel",
          "model_module_version": "1.2.0",
          "state": {
            "_model_module": "@jupyter-widgets/base",
            "_model_module_version": "1.2.0",
            "_model_name": "LayoutModel",
            "_view_count": null,
            "_view_module": "@jupyter-widgets/base",
            "_view_module_version": "1.2.0",
            "_view_name": "LayoutView",
            "align_content": null,
            "align_items": null,
            "align_self": null,
            "border": null,
            "bottom": null,
            "display": null,
            "flex": null,
            "flex_flow": null,
            "grid_area": null,
            "grid_auto_columns": null,
            "grid_auto_flow": null,
            "grid_auto_rows": null,
            "grid_column": null,
            "grid_gap": null,
            "grid_row": null,
            "grid_template_areas": null,
            "grid_template_columns": null,
            "grid_template_rows": null,
            "height": null,
            "justify_content": null,
            "justify_items": null,
            "left": null,
            "margin": null,
            "max_height": null,
            "max_width": null,
            "min_height": null,
            "min_width": null,
            "object_fit": null,
            "object_position": null,
            "order": null,
            "overflow": null,
            "overflow_x": null,
            "overflow_y": null,
            "padding": null,
            "right": null,
            "top": null,
            "visibility": null,
            "width": null
          }
        },
        "6b7d17d214ee498bbb8713fc2049573a": {
          "model_module": "@jupyter-widgets/controls",
          "model_name": "ProgressStyleModel",
          "model_module_version": "1.5.0",
          "state": {
            "_model_module": "@jupyter-widgets/controls",
            "_model_module_version": "1.5.0",
            "_model_name": "ProgressStyleModel",
            "_view_count": null,
            "_view_module": "@jupyter-widgets/base",
            "_view_module_version": "1.2.0",
            "_view_name": "StyleView",
            "bar_color": null,
            "description_width": ""
          }
        },
        "903728021b4d40988b7725f8cd47ca76": {
          "model_module": "@jupyter-widgets/base",
          "model_name": "LayoutModel",
          "model_module_version": "1.2.0",
          "state": {
            "_model_module": "@jupyter-widgets/base",
            "_model_module_version": "1.2.0",
            "_model_name": "LayoutModel",
            "_view_count": null,
            "_view_module": "@jupyter-widgets/base",
            "_view_module_version": "1.2.0",
            "_view_name": "LayoutView",
            "align_content": null,
            "align_items": null,
            "align_self": null,
            "border": null,
            "bottom": null,
            "display": null,
            "flex": null,
            "flex_flow": null,
            "grid_area": null,
            "grid_auto_columns": null,
            "grid_auto_flow": null,
            "grid_auto_rows": null,
            "grid_column": null,
            "grid_gap": null,
            "grid_row": null,
            "grid_template_areas": null,
            "grid_template_columns": null,
            "grid_template_rows": null,
            "height": null,
            "justify_content": null,
            "justify_items": null,
            "left": null,
            "margin": null,
            "max_height": null,
            "max_width": null,
            "min_height": null,
            "min_width": null,
            "object_fit": null,
            "object_position": null,
            "order": null,
            "overflow": null,
            "overflow_x": null,
            "overflow_y": null,
            "padding": null,
            "right": null,
            "top": null,
            "visibility": null,
            "width": null
          }
        },
        "31f312f02c4d4856bd9b79f9c9cd3e73": {
          "model_module": "@jupyter-widgets/controls",
          "model_name": "DescriptionStyleModel",
          "model_module_version": "1.5.0",
          "state": {
            "_model_module": "@jupyter-widgets/controls",
            "_model_module_version": "1.5.0",
            "_model_name": "DescriptionStyleModel",
            "_view_count": null,
            "_view_module": "@jupyter-widgets/base",
            "_view_module_version": "1.2.0",
            "_view_name": "StyleView",
            "description_width": ""
          }
        }
      }
    }
  },
  "nbformat": 4,
  "nbformat_minor": 0
}